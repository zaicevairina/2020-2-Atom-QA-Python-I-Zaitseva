{
  "cells": [
    {
      "cell_type": "markdown",
      "metadata": {
        "id": "view-in-github",
        "colab_type": "text"
      },
      "source": [
        "<a href=\"https://colab.research.google.com/github/zaicevairina/2020-2-Atom-QA-Python-I-Zaitseva/blob/master/%D0%9F%D1%80%D0%BE%D0%B2%D0%B5%D1%80%D0%BA%D0%B0_%D0%B3%D0%B8%D0%BF%D0%BE%D1%82%D0%B5%D0%B7_%D0%A7%D0%B0%D1%81%D1%82%D1%8C_2_.ipynb\" target=\"_parent\"><img src=\"https://colab.research.google.com/assets/colab-badge.svg\" alt=\"Open In Colab\"/></a>"
      ]
    },
    {
      "cell_type": "code",
      "execution_count": null,
      "metadata": {
        "id": "tdo_vqr-xCXZ"
      },
      "outputs": [],
      "source": [
        "import pandas as pd\n",
        "import numpy as np\n",
        "import seaborn as sns\n",
        "import matplotlib.pyplot as plt\n",
        "from scipy import stats\n",
        "from statsmodels.stats.power import ttest_power\n",
        "from statsmodels.stats.power import TTestIndPower\n",
        "from statsmodels.stats.power import GofChisquarePower\n",
        "import statsmodels.stats.power as power\n",
        "import statsmodels.stats.multitest as multitest"
      ]
    },
    {
      "cell_type": "markdown",
      "metadata": {
        "id": "7fWuAt9DxCXe"
      },
      "source": [
        "# Ошибка второго рода и статистическая мощность"
      ]
    },
    {
      "cell_type": "markdown",
      "metadata": {
        "id": "QY4Otnz7xCXj"
      },
      "source": [
        "## Освежим знания с прошлого занятия"
      ]
    },
    {
      "cell_type": "markdown",
      "metadata": {
        "id": "i2HeOYX3xCXl"
      },
      "source": [
        "Давайте вспомним знакомую нам таблицу с ошибками первого и второго рода:"
      ]
    },
    {
      "cell_type": "markdown",
      "metadata": {
        "id": "fMWDIYLyxCXm"
      },
      "source": [
        "![errors](https://encrypted-tbn0.gstatic.com/images?q=tbn%3AANd9GcQ1ce6-OOtY2aN10Z60e5WlI3e7SE457EjKLJ79_DeiRMiL0bVZ&usqp=CAU)"
      ]
    },
    {
      "cell_type": "markdown",
      "metadata": {
        "id": "-8FCUNkexCXm"
      },
      "source": [
        "На прошлом занятии мы подробно обсудили все, что связано с ошибкой первого рода.\n",
        "<br> **Кратко вспомним ключевое**"
      ]
    },
    {
      "cell_type": "markdown",
      "metadata": {
        "id": "zkmso_1LxCXn"
      },
      "source": [
        "* уровень значимости - задаеваемая нами вероятность отклонения нулевой гипотезы, когда она была действительно верной. То есть максимальная вероятность совершения ошибки первого рода. Другая интерпретация: уровень значимости — это такое (достаточно малое) значение вероятности события, при котором событие уже можно считать неслучайным.\n",
        "* критическая область - область значений статистики критерия, при которых мы оклоняем нулевую гипотезу, то есть это такие значения статистики критерия, вероятность получить значения которые меньше или равна нашему уровню значимости;\n",
        "* p-value - кумулятивная вероятность получения определенного значения статистики критерия. То есть вероятность получения результата, равного или более экстремального, чем наблюдалось в данных."
      ]
    },
    {
      "cell_type": "markdown",
      "metadata": {
        "id": "AadOepUUxCXo"
      },
      "source": [
        "**Например**"
      ]
    },
    {
      "cell_type": "markdown",
      "metadata": {
        "id": "6-1WuVnRxCXo"
      },
      "source": [
        "Мы проверяем **двустороннюю** гипотезу о равенстве средних двух выборок длиной по 200 элементов с помощью критерия Стьюдента и задааем уровень значимости равный **0,01**. Проводим тест и получаем t-статистику, равную **2**. Что это значит?"
      ]
    },
    {
      "cell_type": "markdown",
      "metadata": {
        "id": "C-k5KX9jxCXu"
      },
      "source": [
        "1) При заданном уровне значимости, мы говорим, что мы не примем нулевую гипотезу о равенстве средних если кумулятивная вероятность получения такого значения t-статистики, которое мы получили, будет меньше, чем 0,01 (1%)."
      ]
    },
    {
      "cell_type": "markdown",
      "metadata": {
        "id": "V47-JQPbxCXv"
      },
      "source": [
        "Всмпомнить про распредеение t-статистики (распределение Стьюдента) - https://wiki.loginom.ru/articles/students-distribution.html"
      ]
    },
    {
      "cell_type": "code",
      "execution_count": null,
      "metadata": {
        "id": "8JETpOtUxCXv"
      },
      "outputs": [],
      "source": [
        "t_vals = np.random.standard_t(398, size = 10000)"
      ]
    },
    {
      "cell_type": "code",
      "execution_count": null,
      "metadata": {
        "id": "pNHNQJ0RxCXv",
        "outputId": "edfeb9b8-0824-48bb-d120-5ed9b7aa619d"
      },
      "outputs": [
        {
          "name": "stderr",
          "output_type": "stream",
          "text": [
            "/usr/local/lib/python3.7/site-packages/seaborn/distributions.py:2557: FutureWarning: `distplot` is a deprecated function and will be removed in a future version. Please adapt your code to use either `displot` (a figure-level function with similar flexibility) or `histplot` (an axes-level function for histograms).\n",
            "  warnings.warn(msg, FutureWarning)\n",
            "/usr/local/lib/python3.7/site-packages/seaborn/distributions.py:2557: FutureWarning: `distplot` is a deprecated function and will be removed in a future version. Please adapt your code to use either `displot` (a figure-level function with similar flexibility) or `kdeplot` (an axes-level function for kernel density plots).\n",
            "  warnings.warn(msg, FutureWarning)\n"
          ]
        },
        {
          "data": {
            "text/plain": [
              "<AxesSubplot:ylabel='Density'>"
            ]
          },
          "execution_count": 3,
          "metadata": {},
          "output_type": "execute_result"
        },
        {
          "data": {
            "image/png": "[encoded data removed]",
            "text/plain": [
              "<Figure size 1080x360 with 1 Axes>"
            ]
          },
          "metadata": {
            "needs_background": "light"
          },
          "output_type": "display_data"
        }
      ],
      "source": [
        "plt.figure(figsize=(15,5));\n",
        "sns.distplot(t_vals, kde = True, hist = True, color = 'red')\n",
        "sns.distplot(t_vals, hist = False,hist_kws={'cumulative': True}, kde_kws={'cumulative': True}, color = 'orange')"
      ]
    },
    {
      "cell_type": "code",
      "execution_count": null,
      "metadata": {
        "id": "wR9Z7K8lxCXw"
      },
      "outputs": [],
      "source": [
        "p_value = stats.t.cdf(-2, 398) * 2"
      ]
    },
    {
      "cell_type": "code",
      "execution_count": null,
      "metadata": {
        "id": "MutgaF-exCXx"
      },
      "outputs": [],
      "source": [
        "p_value = 2 - stats.t.cdf(2, 398) * 2"
      ]
    },
    {
      "cell_type": "code",
      "execution_count": null,
      "metadata": {
        "id": "nytZuMRsxCXx",
        "outputId": "92ba2a64-03cf-47a3-d92c-d8a5662a914c"
      },
      "outputs": [
        {
          "data": {
            "text/plain": [
              "0.04617934453132455"
            ]
          },
          "execution_count": 6,
          "metadata": {},
          "output_type": "execute_result"
        }
      ],
      "source": [
        "p_value"
      ]
    },
    {
      "cell_type": "markdown",
      "metadata": {
        "id": "d_Kl5PAYxCXy"
      },
      "source": [
        "2) мы получили p-value = 0,046. Это значит, что вероятность получить значение t-статистики = 2 или -2, равняется 0,046 (4,6%). Это больше, чем мы закладывали, поэтому в рамках нашего эксперимента гипотеза о равенстве средних отклоняется."
      ]
    },
    {
      "cell_type": "markdown",
      "metadata": {
        "id": "5PlJ1KBjxCXz"
      },
      "source": [
        "## Вспомним про ошибку второго рода и определим, что такое мощность критерия"
      ]
    },
    {
      "cell_type": "markdown",
      "metadata": {
        "id": "A1lQvk61xCX0"
      },
      "source": [
        "Мы достаточно глубоко погрузились в специфику работы с ошибкой первого рода,но совсем не думали об ошибке второго рода."
      ]
    },
    {
      "cell_type": "markdown",
      "metadata": {
        "id": "89cwBQXexCX0"
      },
      "source": [
        "Но если мы имеем вероятность принять нулевую гипотезу ошибочно, то важно уметь оценивать эту вероятность и все, что из нее следует."
      ]
    },
    {
      "cell_type": "markdown",
      "metadata": {
        "id": "DGGxDJEqxCX0"
      },
      "source": [
        "<img width = '400px' src= https://memepedia.ru/wp-content/uploads/2018/10/1-82.jpg>"
      ]
    },
    {
      "cell_type": "markdown",
      "metadata": {
        "id": "GZ2wXelTxCX1"
      },
      "source": [
        "Вспомним, что **ошибка второго рода** - принятие нулевой гипотезы, когда в действительности она ложна и между сравниваемыми параметрами есть значимая разница, которую мы не обнаружили."
      ]
    },
    {
      "cell_type": "markdown",
      "metadata": {
        "id": "Q1FoOWv-xCX1"
      },
      "source": [
        "И если уровень значимости, контролирующий ошибку первого рода помогает нам вычислить вероятность правильного принятия нулевой гипотезы (доверительную вероятность), которая равняется 1 - уровень значимости, то ошибка второго рода помогает нам определить вероятность правильного принятия альтернативной гипотезы (H1), которая равняется 1 - вероятность ошибки второго рода и чаще называется мощностью или чувствительностью критерия. Ошибка второго рода не задается нами перед началом теста, так как образуется только в том случае, если мы отклоняем нулевую гипотезу."
      ]
    },
    {
      "cell_type": "markdown",
      "metadata": {
        "id": "G-ogAIOaxCX2"
      },
      "source": [
        "Таким образом"
      ]
    },
    {
      "cell_type": "markdown",
      "metadata": {
        "id": "pMpop3EbxCX2"
      },
      "source": [
        "**Статистическая мощность** - это вероятность того, что данный эксперимент правильно отвергает нулевую гипотезу, когда альтернативная гипотеза верна.  Чем выше мощность статистического теста, тем меньше вероятность совершить ошибку второго рода."
      ]
    },
    {
      "cell_type": "markdown",
      "metadata": {
        "id": "N3IFzlWbxCX2"
      },
      "source": [
        "Рассмотрим на примере, для ясности"
      ]
    },
    {
      "cell_type": "markdown",
      "metadata": {
        "id": "pPuITFAoxCX3"
      },
      "source": [
        "Сгенерируем 2 похожие,  нормально распределенные выборки с небольшой разницей в среднем"
      ]
    },
    {
      "cell_type": "code",
      "execution_count": null,
      "metadata": {
        "id": "C6w6f-uRxCX3"
      },
      "outputs": [],
      "source": [
        "ex_1 = np.random.normal(50,5,1000)\n",
        "ex_2 = np.random.normal(50.7,5,1000)"
      ]
    },
    {
      "cell_type": "code",
      "execution_count": null,
      "metadata": {
        "id": "4NHJZaIexCX4",
        "outputId": "6861ca88-006e-4fd7-dfaa-565ddb7d3b81"
      },
      "outputs": [
        {
          "name": "stderr",
          "output_type": "stream",
          "text": [
            "/usr/local/lib/python3.7/site-packages/seaborn/distributions.py:2557: FutureWarning: `distplot` is a deprecated function and will be removed in a future version. Please adapt your code to use either `displot` (a figure-level function with similar flexibility) or `histplot` (an axes-level function for histograms).\n",
            "  warnings.warn(msg, FutureWarning)\n"
          ]
        },
        {
          "data": {
            "text/plain": [
              "Text(0.5, 1.0, 'test')"
            ]
          },
          "execution_count": 8,
          "metadata": {},
          "output_type": "execute_result"
        },
        {
          "data": {
            "image/png": "[encoded data removed]",
            "text/plain": [
              "<Figure size 864x360 with 2 Axes>"
            ]
          },
          "metadata": {
            "needs_background": "light"
          },
          "output_type": "display_data"
        }
      ],
      "source": [
        "f= plt.figure(figsize=(12,5))\n",
        "\n",
        "ax=f.add_subplot(121)\n",
        "sns.distplot(ex_2,color = 'blue',hist = True, kde = False,ax = ax)\n",
        "ax.set_title('control')\n",
        "\n",
        "ax=f.add_subplot(122)\n",
        "sns.distplot(ex_1,color = 'green',hist = True, kde = False,ax=ax)\n",
        "ax.set_title('test')"
      ]
    },
    {
      "cell_type": "markdown",
      "metadata": {
        "id": "C79rxB62xCX7"
      },
      "source": [
        "Проведем сравнение с помощью критерия Стьюдента"
      ]
    },
    {
      "cell_type": "code",
      "execution_count": null,
      "metadata": {
        "id": "rKDl6O3jxCX7",
        "outputId": "277e7f7f-f812-4a87-fb33-c85085da22ec"
      },
      "outputs": [
        {
          "name": "stdout",
          "output_type": "stream",
          "text": [
            "Есть статистически значимая разница \n",
            "t - критерий =  -3.335054751651104 \n",
            "p-value = 0.000868426322727329\n"
          ]
        }
      ],
      "source": [
        "t, p = stats.ttest_ind(ex_1,ex_2)\n",
        "\n",
        "\n",
        "if p > 0.05:\n",
        "    print('Нет статистически значимой разницы','\\nt - критерий = ',t,'\\np-value =',p)\n",
        "else:\n",
        "    print('Есть статистически значимая разница','\\nt - критерий = ',t,'\\np-value =',p)"
      ]
    },
    {
      "cell_type": "markdown",
      "metadata": {
        "id": "fAfQbYBoxCX8"
      },
      "source": [
        "Статистическая значимость есть. А с какого момента все же она начинает появляться? Посмотрим на критическое значение, с которого начинается критическая область - область отторжения нулевой гипотезы."
      ]
    },
    {
      "cell_type": "code",
      "execution_count": null,
      "metadata": {
        "id": "G9FGeg3uxCX8",
        "outputId": "59b9cacc-3285-44d1-d6c3-b6216c086c9b"
      },
      "outputs": [
        {
          "data": {
            "text/plain": [
              "-1.961152014836706"
            ]
          },
          "execution_count": 10,
          "metadata": {},
          "output_type": "execute_result"
        }
      ],
      "source": [
        "stats.t.ppf(q= .05/2,df=1998) #делим на 2 так как у нас двусторонняя гипотеза"
      ]
    },
    {
      "cell_type": "markdown",
      "metadata": {
        "id": "L4VI-PK0xCX9"
      },
      "source": [
        " Мы бы отвергаем  нулевую гипотезу, когда наше t значение меньше -1.961 или больше 1.961."
      ]
    },
    {
      "cell_type": "code",
      "execution_count": null,
      "metadata": {
        "id": "q7xBA5ktxCX9"
      },
      "outputs": [],
      "source": [
        "t_values = np.random.standard_t(1998, size = 1000)"
      ]
    },
    {
      "cell_type": "code",
      "execution_count": null,
      "metadata": {
        "id": "A330MgnQxCX9",
        "outputId": "d1a5142e-9833-40d2-b0b4-7bcdd5eaec15"
      },
      "outputs": [
        {
          "data": {
            "text/plain": [
              "<AxesSubplot:ylabel='Density'>"
            ]
          },
          "execution_count": 12,
          "metadata": {},
          "output_type": "execute_result"
        },
        {
          "data": {
            "image/png": "[encoded data removed]",
            "text/plain": [
              "<Figure size 432x288 with 1 Axes>"
            ]
          },
          "metadata": {
            "needs_background": "light"
          },
          "output_type": "display_data"
        }
      ],
      "source": [
        "sns.distplot(t_values, kde = True, hist = True, color = 'cyan')"
      ]
    },
    {
      "cell_type": "markdown",
      "metadata": {
        "id": "IHBl9FBMxCX-"
      },
      "source": [
        "Вся область распределения от -1.961 до 1.961 является областью принятия нулевой гипотезы, и точно также у нас есть область отклонения нулевой гипотезы, то есть принятия альтернативной гипотезы."
      ]
    },
    {
      "cell_type": "markdown",
      "metadata": {
        "id": "yCgdo8SsxCX-"
      },
      "source": [
        "Распредление статистики критерия, которое отображает как распределяется статистика критерия, когда нулевая гипотеза верна называется **центральным распределением**, а распределение статистики критерия, которое показывает, как она распределится, когда нулевая гипотеза не верна называется **нецентральным распределением**."
      ]
    },
    {
      "cell_type": "markdown",
      "metadata": {
        "id": "AHHmg7p1xCX_"
      },
      "source": [
        "Нецентральные распределения - это семейства вероятностных распределений , которые связаны с другими «центральными» семействами распределений с помощью параметра нецентральности . В то время как центральное распределение описывает, как распределяется тестовая статистика, когда проверяемая разница равна нулю , нецентральные распределения описывают распределение тестовой статистики, когда нулевое значение ложно (так что альтернативная гипотеза верна). Это приводит к их использованию при расчете статистической мощности .\n",
        "\n",
        "Если параметр нецентральности распределения равен нулю, распределение идентично распределению в центральном семействе. Так , например, в Стьюденте т -распределение является центральным семейством распределений для нецентрального т -распределения семьи."
      ]
    },
    {
      "cell_type": "markdown",
      "metadata": {
        "id": "ARXTSojsxCYA"
      },
      "source": [
        "https://en.wikipedia.org/wiki/Noncentral_distribution"
      ]
    },
    {
      "cell_type": "markdown",
      "metadata": {
        "id": "QIfIIKONxCYA"
      },
      "source": [
        "![p](https://i.pinimg.com/originals/9c/0b/4d/9c0b4dc10c1ff838eefd4807ee48d3e7.png)"
      ]
    },
    {
      "cell_type": "code",
      "execution_count": null,
      "metadata": {
        "id": "vo0OGS5pxCYA",
        "outputId": "6b2bba18-0ca1-4c11-cc33-695311970092"
      },
      "outputs": [
        {
          "data": {
            "text/plain": [
              "<matplotlib.legend.Legend at 0x1245bc290>"
            ]
          },
          "execution_count": 13,
          "metadata": {},
          "output_type": "execute_result"
        },
        {
          "data": {
            "image/png": "[encoded data removed]",
            "text/plain": [
              "<Figure size 1080x360 with 1 Axes>"
            ]
          },
          "metadata": {
            "needs_background": "light"
          },
          "output_type": "display_data"
        }
      ],
      "source": [
        "plt.figure(figsize=(15,5));\n",
        "sns.kdeplot(stats.nct.rvs(1998,2.5,size = 1000),shade = True);\n",
        "sns.kdeplot(t_values,shade = True).legend(['H1 area','H0 area'])\n"
      ]
    },
    {
      "cell_type": "markdown",
      "metadata": {
        "id": "oifglr63xCYB"
      },
      "source": [
        "Так как мы выявили статистическую значимость и отклонили нулевую гипотезу, для нас уместно понять, насколько точно нами была принята альтернативная гипотеза и какова вероятность, что мы все таки совершили ошибку второго рода."
      ]
    },
    {
      "cell_type": "markdown",
      "metadata": {
        "id": "DKzN2vFUxCYB"
      },
      "source": [
        "Для начала необходимо рассчитать статистическую мощность - вероятность того, что нулевая гипотеза была отвергнута верно. "
      ]
    },
    {
      "cell_type": "markdown",
      "metadata": {
        "id": "2BB5GblPxCYB"
      },
      "source": [
        "Анализ мощности может проводиться перед началом теста (для определения размера выборки), а также после (для уверенности в результате и проверки насколько результат изменится при разной величине эффекта или объеме выборки)"
      ]
    },
    {
      "cell_type": "markdown",
      "metadata": {
        "id": "05tOw7rexCYB"
      },
      "source": [
        "## Расчет статистической мощности, что нам требуется?"
      ]
    },
    {
      "cell_type": "markdown",
      "metadata": {
        "id": "i2Y7Se0jxCYB"
      },
      "source": [
        "Что требуется для того, что рассчитать статистическую мощность?"
      ]
    },
    {
      "cell_type": "markdown",
      "metadata": {
        "id": "Wsv2egSgxCYC"
      },
      "source": [
        "### размер эффекта (effect size)"
      ]
    },
    {
      "cell_type": "markdown",
      "metadata": {
        "id": "eEUhAarPxCYC"
      },
      "source": [
        "![img](https://miro.medium.com/max/1000/1*o-T-W0cDXkBAZfrvKJZMHg.jpeg)"
      ]
    },
    {
      "cell_type": "markdown",
      "metadata": {
        "id": "EiookYDyxCYC"
      },
      "source": [
        "В некторых тестах мы наблюдаем количественно большую разницу, а в некоторых совсем небольшую. Например, наша конверсия может измениться на 1% и это будет иногда значимо а иногда нет, также и на 5-10%. Конечно это зависит от объема выборки, однако очень важно понимать, как же адекватно оценивать размер эффекта? Для этого существует целая группа индексов, оценивающих силу эффекта стандартизированно. "
      ]
    },
    {
      "cell_type": "markdown",
      "metadata": {
        "id": "CdX4MBHGxCYC"
      },
      "source": [
        "**Размер эффекта**  определяется как количественное отражение величины (степени проявления) некоторого явления, которое используется для решения интересующего вопроса. \n",
        "<br> Следует отметить, что размер эффекта (ES) – обозначение целого семейства индексов, которые оценивают значение эффекта воздействия. В качестве размера эффекта может быть использована абсолютная и стандартизированная разница между средними значениями в исследуемых группах, степень взаимосвязи между признаками, оценка шансов и рисков, оценка пропорций, соответствие или несоответствие определенной модели и т. д."
      ]
    },
    {
      "cell_type": "markdown",
      "metadata": {
        "id": "mX6yO0GbxCYC"
      },
      "source": [
        "https://en.wikipedia.org/wiki/Effect_size"
      ]
    },
    {
      "cell_type": "markdown",
      "metadata": {
        "id": "JHb4yGtmxCYD"
      },
      "source": [
        "Размер эффекта позволяет стандартизированно ответить на вопрос сильное изменение или нет."
      ]
    },
    {
      "cell_type": "markdown",
      "metadata": {
        "id": "eii591iRxCYD"
      },
      "source": [
        "Для каждого критерия существуют свои индексы размера эффекта"
      ]
    },
    {
      "cell_type": "markdown",
      "metadata": {
        "id": "PSdbEf_1xCYD"
      },
      "source": [
        "1) t-test - d Коэна, g Ходжеса;\n",
        "<br>2) хи-квадрат - коэффицент корреляции;\n",
        "<br>3) ранговые критерии (Манна Уитни и тд) - рангово-бисериальная корреляция."
      ]
    },
    {
      "cell_type": "markdown",
      "metadata": {
        "id": "0KqjXWXJxCYD"
      },
      "source": [
        "**Рассчитаем размер эффекта  d Коэна для нашего случая**"
      ]
    },
    {
      "cell_type": "markdown",
      "metadata": {
        "id": "pqOovhbYxCYD"
      },
      "source": [
        "d Коэна  - величина эффекта, используемая для обозначения стандартизированной разницы между двумя средними. Его можно использовать, например, для сопровождения отчетов о результатах t- теста и ANOVA . Он также широко используется в метаанализе .\n",
        "<br>.  **Рассчитывается как разница между средними, деленная на объединенное стандратное отклонение**"
      ]
    },
    {
      "cell_type": "markdown",
      "metadata": {
        "id": "S91jDy6AxCYE"
      },
      "source": [
        " Объединенное стандартное отклонение - взвешенное среднее из стандартных отклонений для двух или более групп. Отдельные стандартные отклонения усредняются, причем больший «вес» придается большему размеру выборки."
      ]
    },
    {
      "cell_type": "markdown",
      "metadata": {
        "id": "kH96wQQ7xCYE"
      },
      "source": [
        "Формула расчета "
      ]
    },
    {
      "cell_type": "markdown",
      "metadata": {
        "id": "Aq5gHzYlxCYE"
      },
      "source": [
        "![d](https://i.pinimg.com/originals/bc/de/b1/bcdeb114028c1828056821fc07c303ad.png)"
      ]
    },
    {
      "cell_type": "code",
      "execution_count": null,
      "metadata": {
        "id": "JqUclbkmxCYE"
      },
      "outputs": [],
      "source": [
        "def cohend(d1, d2):\n",
        "    n1, n2 = len(d1), len(d2)\n",
        "    s1, s2 = np.var(d1, ddof=1), np.var(d2, ddof=1)\n",
        "    s = np.sqrt(((n1 - 1) * s1 + (n2 - 1) * s2) / (n1 + n2 - 2))\n",
        "    u1, u2 = np.mean(d1), np.mean(d2)\n",
        "    return (u1 - u2) / s"
      ]
    },
    {
      "cell_type": "code",
      "execution_count": null,
      "metadata": {
        "id": "Mkja4iiaxCYE",
        "outputId": "eeafd72d-6ada-4aac-b230-f6b05503ce39"
      },
      "outputs": [
        {
          "data": {
            "text/plain": [
              "0.14914818266751093"
            ]
          },
          "execution_count": 15,
          "metadata": {},
          "output_type": "execute_result"
        }
      ],
      "source": [
        "cohend(ex_2,ex_1)"
      ]
    },
    {
      "cell_type": "markdown",
      "metadata": {
        "id": "wkXmsDsBxCYF"
      },
      "source": [
        "### Уровень значимости\n",
        "Следующее, что нам необходимо для расчета мощности - уровень значимости, на котором проверяем гипотезу, его мы знаем)"
      ]
    },
    {
      "cell_type": "markdown",
      "metadata": {
        "id": "Sn8jGfr0xCYH"
      },
      "source": [
        "### Длина выборки"
      ]
    },
    {
      "cell_type": "markdown",
      "metadata": {
        "id": "_Lq0xeAWxCYH"
      },
      "source": [
        "Суммарное количество элементов в выборках, это мы тоже знаем)"
      ]
    },
    {
      "cell_type": "markdown",
      "metadata": {
        "id": "a7Jp5C0BxCYH"
      },
      "source": [
        "### Критическая область\n",
        "Какую гипотезу проверяем: левостороннюю, правостороннюю, двустороннюю"
      ]
    },
    {
      "cell_type": "markdown",
      "metadata": {
        "id": "6AzdzoiYxCYH"
      },
      "source": [
        "###  Вычислим статистическую мощность"
      ]
    },
    {
      "cell_type": "markdown",
      "metadata": {
        "id": "HD6Ap_c6xCYI"
      },
      "source": [
        "Объяснение формулы:"
      ]
    },
    {
      "cell_type": "markdown",
      "metadata": {
        "id": "6uIAPvEjxCYI"
      },
      "source": [
        "* https://stattrek.com/hypothesis-test/statistical-power.aspx\n",
        "* https://towardsdatascience.com/a-quick-refresher-of-statistical-power-fe8ae5e0c317"
      ]
    },
    {
      "cell_type": "code",
      "execution_count": null,
      "metadata": {
        "id": "bbv92AmmxCYI"
      },
      "outputs": [],
      "source": [
        "power = ttest_power(cohend(ex_2,ex_1), nobs=1000, alpha=0.05, alternative='two-sided')"
      ]
    },
    {
      "cell_type": "code",
      "execution_count": null,
      "metadata": {
        "id": "nrcrfrP3xCYI",
        "outputId": "66f11732-fc8b-47e5-a158-f376cb024a00"
      },
      "outputs": [
        {
          "data": {
            "text/plain": [
              "0.997038145767443"
            ]
          },
          "execution_count": 17,
          "metadata": {},
          "output_type": "execute_result"
        }
      ],
      "source": [
        "power"
      ]
    },
    {
      "cell_type": "markdown",
      "metadata": {
        "id": "Cz3h3VG3xCYI"
      },
      "source": [
        "Ну и таким образом ошибка второго рода"
      ]
    },
    {
      "cell_type": "code",
      "execution_count": null,
      "metadata": {
        "id": "ZYEIkG63xCYJ"
      },
      "outputs": [],
      "source": [
        "beta = 1 - power"
      ]
    },
    {
      "cell_type": "code",
      "execution_count": null,
      "metadata": {
        "id": "q6dEjqixxCYJ",
        "outputId": "ea3d9c8d-fd18-45ba-c5a7-5d30c87fdfd0"
      },
      "outputs": [
        {
          "data": {
            "text/plain": [
              "0.002961854232557015"
            ]
          },
          "execution_count": 19,
          "metadata": {},
          "output_type": "execute_result"
        }
      ],
      "source": [
        "beta"
      ]
    },
    {
      "cell_type": "markdown",
      "metadata": {
        "id": "IFthfpmBxCYJ"
      },
      "source": [
        "## Использование мощности и размера эффекта для расчета объема выборки перед проведением теста"
      ]
    },
    {
      "cell_type": "markdown",
      "metadata": {
        "id": "sMUFc7DIxCYJ"
      },
      "source": [
        "**Размер эффекта**"
      ]
    },
    {
      "cell_type": "markdown",
      "metadata": {
        "id": "AQal_ymxxCYJ"
      },
      "source": [
        "Мы уже знаем, как рассчитать размер эффекта, но если перед нами стоит задача определить, какой размер выборки нам нужен, чтобы качественно провести проверку статистической гипотезы, то мы еще не знаем реального размера эффекта и мощности."
      ]
    },
    {
      "cell_type": "markdown",
      "metadata": {
        "id": "Z3tshvEjxCYK"
      },
      "source": [
        "Но! Мы знаем, что хотим увидеть)"
      ]
    },
    {
      "cell_type": "markdown",
      "metadata": {
        "id": "XpxhacJZxCYK"
      },
      "source": [
        "Для размера эффекта существует условное деление,относящее эффект к маленькому, среднему, большому. Границы зависят от выбранного индекса размера эффекта, для d Коэна это:"
      ]
    },
    {
      "cell_type": "markdown",
      "metadata": {
        "id": "3wcvKQWCxCYK"
      },
      "source": [
        "![s](https://www.simplypsychology.org/cohen-d.jpg?ezimgfmt=rs:382x181/rscb24/ng:webp/ngcb24)"
      ]
    },
    {
      "cell_type": "markdown",
      "metadata": {
        "id": "Szsvv-5zxCYK"
      },
      "source": [
        "Соответственно, перед запуском теста нам важно оценить, какое изменение мы ожидаем увидеть. Если у нас есть сомнение и у нас есть возможность собрать большой объем выборки, то можно отсмотреть с разными размерами эффекта."
      ]
    },
    {
      "cell_type": "markdown",
      "metadata": {
        "id": "cVCp0feOxCYK"
      },
      "source": [
        "**Мощность**"
      ]
    },
    {
      "cell_type": "markdown",
      "metadata": {
        "id": "GJ38O_9lxCYK"
      },
      "source": [
        "Мы также не знаем, какая мощность будет у нашего теста, поэтому можем выбрать желаемое значение. Минимально допустимым считается значение 0,8 (то есть вероятность ошибки второго рода не должна превышать 0,2). Однако в любом случае необходимо отталкиваться от конкретного теста, ситуации и наших объемов данных"
      ]
    },
    {
      "cell_type": "markdown",
      "metadata": {
        "id": "hRgoGUg8xCYK"
      },
      "source": [
        "## Примеры расчета объема выборки"
      ]
    },
    {
      "cell_type": "markdown",
      "metadata": {
        "id": "yfJOQgtFxCYK"
      },
      "source": [
        "Используя наши знания и существующий функционал проведем экспериментальный расчет объема выборки для разных известных нам критериев"
      ]
    },
    {
      "cell_type": "markdown",
      "metadata": {
        "id": "2eElw69_xCYL"
      },
      "source": [
        "### для критерия Стьюдента"
      ]
    },
    {
      "cell_type": "code",
      "execution_count": null,
      "metadata": {
        "id": "z6aq4CeWxCYL",
        "outputId": "6687480b-61a0-4fee-b086-0ef6661750c9"
      },
      "outputs": [
        {
          "name": "stdout",
          "output_type": "stream",
          "text": [
            "Sample Size: 117733.550\n"
          ]
        }
      ],
      "source": [
        "effect = 0.01\n",
        "alpha = 0.05\n",
        "power = 0.8\n",
        "\n",
        "analysis = TTestIndPower()\n",
        "result = analysis.solve_power(effect, power=power, nobs1=None, ratio=2, alpha=alpha)\n",
        "print('Sample Size: %.3f' % result)"
      ]
    },
    {
      "cell_type": "markdown",
      "metadata": {
        "id": "JxZYZP9zxCYL"
      },
      "source": [
        "### для критерия хи-квадрат"
      ]
    },
    {
      "cell_type": "markdown",
      "metadata": {
        "id": "Vcfrl7_qxCYL"
      },
      "source": [
        "в качестве размера эффекта используется коэффициент корреляции"
      ]
    },
    {
      "cell_type": "code",
      "execution_count": null,
      "metadata": {
        "id": "fdPuIETOxCYL",
        "outputId": "ef50e7c6-8cfc-4bf4-df53-5c48ae8b2def"
      },
      "outputs": [
        {
          "data": {
            "text/plain": [
              "198193.01380553763"
            ]
          },
          "execution_count": 21,
          "metadata": {},
          "output_type": "execute_result"
        }
      ],
      "source": [
        "chipower = GofChisquarePower()\n",
        "chipower.solve_power(0.01, nobs=None, alpha=0.005, power=0.95)"
      ]
    },
    {
      "cell_type": "markdown",
      "metadata": {
        "id": "p01L9WJ-xCYL"
      },
      "source": [
        "Документация для расчета мощности для других критериев\n",
        "<br> https://www.statsmodels.org/stable/search.html?q=power"
      ]
    },
    {
      "cell_type": "markdown",
      "metadata": {
        "id": "EpDkL-zixCYM"
      },
      "source": [
        "# Познакомимся со множественными сравнениями"
      ]
    },
    {
      "cell_type": "markdown",
      "metadata": {
        "id": "D1IIiXE1xCYM"
      },
      "source": [
        "### Узнаем подробнее про критерий хи-квадрат и проведем множественное сравнение"
      ]
    },
    {
      "cell_type": "markdown",
      "metadata": {
        "id": "wESX10fIxCYM"
      },
      "source": [
        "**!! Пример хи квадрат с двумя группами представлен в ноутбуке прошлой лекции**"
      ]
    },
    {
      "cell_type": "markdown",
      "metadata": {
        "id": "GLMUdX-GxCYM"
      },
      "source": [
        "Критерий Хи-квадарт позволяет нам сравнить отношения количества успеха к неуспехам в двух таблицах.Под успешным можем подразумевать не только совершение действия, но и любое желаемое число, например можем сравнить доли успешно закрытых заказов, доли женщин студентов от всей группы и так далее. Позволяет сравнивать больше чем два значения и довольно таки эффективно."
      ]
    },
    {
      "cell_type": "markdown",
      "metadata": {
        "id": "bMW952RjxCYM"
      },
      "source": [
        "Формула для его вычисления"
      ]
    },
    {
      "cell_type": "markdown",
      "metadata": {
        "id": "JzM6yG6oxCYM"
      },
      "source": [
        "![xi](data:image/png;base64,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)\n"
      ]
    },
    {
      "cell_type": "markdown",
      "metadata": {
        "id": "luIzTZ9OxCYM"
      },
      "source": [
        "**Задача**"
      ]
    },
    {
      "cell_type": "markdown",
      "metadata": {
        "id": "PdZHFSpWxCYM"
      },
      "source": [
        "Мы решили разместить на главном экране приложения новую кнопку, которая ведет в раздел с активацией подписок. У нас есть 3 варианта дизайна этой кнопки и мы хотим выбрать тот, который будет максимально привлекать внимание пользователей. Для этого нам нужно провести сравнение трех групп. В качестве критерия используем хи квадрат."
      ]
    },
    {
      "cell_type": "markdown",
      "metadata": {
        "id": "Jn9JGbvdxCYN"
      },
      "source": [
        "<img width = '300px' src=https://img2.goodfon.ru/wallpaper/nbig/3/15/colored-circles-cvetnye-krugi.jpg>"
      ]
    },
    {
      "cell_type": "markdown",
      "metadata": {
        "id": "jh6N4K-7xCYN"
      },
      "source": [
        "Эмпимрические значения - это те значения, которые мы получили на практике, в нашем случае это нашии реальные конверсии в открытие раздела с подписками, а теоретические, это те конверсии, которые бы мы получили, если бы была верна нулевая гипотеза об отсутствии значимого различия, то есть они должны быть равны."
      ]
    },
    {
      "cell_type": "code",
      "execution_count": null,
      "metadata": {
        "id": "psN4Wmn1xCYN"
      },
      "outputs": [],
      "source": [
        "d = {'group':['a','b','c'],'success':[12000,11000,12100],'all':[200000,199451,201001]}"
      ]
    },
    {
      "cell_type": "code",
      "execution_count": null,
      "metadata": {
        "id": "DyVhTkRBxCYN"
      },
      "outputs": [],
      "source": [
        "df = pd.DataFrame(d)"
      ]
    },
    {
      "cell_type": "code",
      "execution_count": null,
      "metadata": {
        "id": "PmpZ9HywxCYN",
        "outputId": "1bf684e5-fe57-4c97-de03-22b48b58d7bd"
      },
      "outputs": [
        {
          "data": {
            "text/html": [
              "<div>\n",
              "<style scoped>\n",
              "    .dataframe tbody tr th:only-of-type {\n",
              "        vertical-align: middle;\n",
              "    }\n",
              "\n",
              "    .dataframe tbody tr th {\n",
              "        vertical-align: top;\n",
              "    }\n",
              "\n",
              "    .dataframe thead th {\n",
              "        text-align: right;\n",
              "    }\n",
              "</style>\n",
              "<table border=\"1\" class=\"dataframe\">\n",
              "  <thead>\n",
              "    <tr style=\"text-align: right;\">\n",
              "      <th></th>\n",
              "      <th>group</th>\n",
              "      <th>success</th>\n",
              "      <th>all</th>\n",
              "    </tr>\n",
              "  </thead>\n",
              "  <tbody>\n",
              "    <tr>\n",
              "      <th>0</th>\n",
              "      <td>a</td>\n",
              "      <td>12000</td>\n",
              "      <td>200000</td>\n",
              "    </tr>\n",
              "    <tr>\n",
              "      <th>1</th>\n",
              "      <td>b</td>\n",
              "      <td>11000</td>\n",
              "      <td>199451</td>\n",
              "    </tr>\n",
              "    <tr>\n",
              "      <th>2</th>\n",
              "      <td>c</td>\n",
              "      <td>12100</td>\n",
              "      <td>201001</td>\n",
              "    </tr>\n",
              "  </tbody>\n",
              "</table>\n",
              "</div>"
            ],
            "text/plain": [
              "  group  success     all\n",
              "0     a    12000  200000\n",
              "1     b    11000  199451\n",
              "2     c    12100  201001"
            ]
          },
          "execution_count": 24,
          "metadata": {},
          "output_type": "execute_result"
        }
      ],
      "source": [
        "df"
      ]
    },
    {
      "cell_type": "markdown",
      "metadata": {
        "id": "5jQmxbIjxCYN"
      },
      "source": [
        "Давайте подумаем, какие у нас есть пути решения данной задачи?"
      ]
    },
    {
      "cell_type": "markdown",
      "metadata": {
        "id": "K5S1DaZTxCYN"
      },
      "source": [
        "1) сравнить все группы между собой и определить, есть ли между ними разница;\n",
        "<br>2) сравнить группы попарно и определить, между какими кнопками конкретно есть разница"
      ]
    },
    {
      "cell_type": "markdown",
      "metadata": {
        "id": "WRhzI51cxCYO"
      },
      "source": [
        "Как правило, нас интересует второй вариант, так как сам факт наличия значимой разницы между тремя группами нам ничего не даст"
      ]
    },
    {
      "cell_type": "markdown",
      "metadata": {
        "id": "kAM1XKz9xCYO"
      },
      "source": [
        "Нам нужно будет провести 3 сравнения:\n",
        "* a vs b (blue vs red)\n",
        "* b vc c ( red vs orange)\n",
        "* a vs c ( blue vs orange)"
      ]
    },
    {
      "cell_type": "markdown",
      "metadata": {
        "id": "t0aWGfkrxCYP"
      },
      "source": [
        "В таких случаях и возникает проблема множественных сравнений"
      ]
    },
    {
      "cell_type": "markdown",
      "metadata": {
        "id": "DFY4RSBnxCYQ"
      },
      "source": [
        "**Чем больше попарных сравнений мы проводим, тем выше вероятность допустить ошибку**"
      ]
    },
    {
      "cell_type": "markdown",
      "metadata": {
        "id": "S-nkVhe3xCYQ"
      },
      "source": [
        "Для решения данной проблемы при сравнении больше чем 2х групп между собой попарно, необходимо учитывать специфику проведения множественных сравнений."
      ]
    },
    {
      "cell_type": "markdown",
      "metadata": {
        "id": "CJvUGFg4xCYQ"
      },
      "source": [
        "### Алгоритм проведения множественного сравнения"
      ]
    },
    {
      "cell_type": "markdown",
      "metadata": {
        "id": "FHO7i8GIxCYQ"
      },
      "source": [
        "1) проведение попарного сравнения групп с помощью выбранного критерия;\n",
        "<br> 2) применение поправки на множественное сравнение для корректировки уровня значимости либо выбор достаточно маленького значения уровня значимости"
      ]
    },
    {
      "cell_type": "markdown",
      "metadata": {
        "id": "_mo2qSI2xCYQ"
      },
      "source": [
        "#### Поправка Бонферрони"
      ]
    },
    {
      "cell_type": "markdown",
      "metadata": {
        "id": "3mAwvnV9xCYR"
      },
      "source": [
        "Поправка Бонферрони - довольно таки известная, простая в реализации поправка. Однако это и делает ее критикуемой многими специалистами."
      ]
    },
    {
      "cell_type": "markdown",
      "metadata": {
        "id": "078IzF7exCYR"
      },
      "source": [
        "Уровень значимости с помошью поправки Бонферрони корректируется по следующей формуле:"
      ]
    },
    {
      "cell_type": "markdown",
      "metadata": {
        "id": "HHcWvWlwxCYR"
      },
      "source": [
        "**Новый уровень значимости** = уровень значимости/количество сравнений\n"
      ]
    },
    {
      "cell_type": "markdown",
      "metadata": {
        "id": "ejWjeOvOxCYR"
      },
      "source": [
        "Нулевая гипотеза отвергается когда p-value меньше нового уровня значимости"
      ]
    },
    {
      "cell_type": "code",
      "execution_count": null,
      "metadata": {
        "id": "HCK93f7QxCYR"
      },
      "outputs": [],
      "source": [
        "a = df[df['group'] == 'a'].drop('group',axis = 1)\n",
        "b = df[df['group'] == 'b'].drop('group',axis = 1)\n",
        "c = df[df['group'] == 'c'].drop('group',axis = 1)"
      ]
    },
    {
      "cell_type": "markdown",
      "metadata": {
        "id": "VdT8n8wNxCYS"
      },
      "source": [
        "1) blue vs red"
      ]
    },
    {
      "cell_type": "code",
      "execution_count": null,
      "metadata": {
        "id": "xX0W8uoExCYS",
        "outputId": "9f60674b-8ddb-4820-dc6d-ae0219c2ad78"
      },
      "outputs": [
        {
          "name": "stdout",
          "output_type": "stream",
          "text": [
            "p-value = 5.561780012021683e-10 \n",
            "chi stat =  38.469440080958435 \n",
            "есть значимая разница \n",
            "Теоретические значения- [[ 11542.16702055 200457.83297945]\n",
            " [ 11457.83297945 198993.16702055]]\n"
          ]
        }
      ],
      "source": [
        "stat = stats.chi2_contingency(pd.concat([a,b]))\n",
        "if stat[1] > 0.01/3:\n",
        "    print('p-value =',stat[1],'\\nchi stat = ',stat[0],'\\nнет значимой разницы','\\nТеоретические значения-',stat[3])\n",
        "else:\n",
        "    print('p-value =',stat[1],'\\nchi stat = ',stat[0],'\\nесть значимая разница','\\nТеоретические значения-',stat[3])"
      ]
    },
    {
      "cell_type": "markdown",
      "metadata": {
        "id": "8ScudSVxxCYS"
      },
      "source": [
        "2) Red vs orange"
      ]
    },
    {
      "cell_type": "code",
      "execution_count": null,
      "metadata": {
        "id": "gmIyjJhmxCYT",
        "outputId": "ce3bc32d-0b0c-46d2-eb92-0974308493b4"
      },
      "outputs": [
        {
          "name": "stdout",
          "output_type": "stream",
          "text": [
            "p-value = 1.0561807671168348e-10 \n",
            "chi stat =  41.71458633833578 \n",
            "есть значимая разница \n",
            "Теоретические значения- [[ 11477.73614574 198973.26385426]\n",
            " [ 11622.26385426 201478.73614574]]\n"
          ]
        }
      ],
      "source": [
        "stat = stats.chi2_contingency(pd.concat([b,c]))\n",
        "if stat[1] > 0.01/3:\n",
        "    print('p-value =',stat[1],'\\nchi stat = ',stat[0],'\\nнет значимой разницы','\\nТеоретические значения-',stat[3])\n",
        "else:\n",
        "    print('p-value =',stat[1],'\\nchi stat = ',stat[0],'\\nесть значимая разница','\\nТеоретические значения-',stat[3])"
      ]
    },
    {
      "cell_type": "markdown",
      "metadata": {
        "id": "xZf9qQIaxCYT"
      },
      "source": [
        "3) Blue vs orange"
      ]
    },
    {
      "cell_type": "code",
      "execution_count": null,
      "metadata": {
        "id": "335XSx7vxCYT",
        "outputId": "97757c67-f1e0-4d06-99d2-3657a32498e6"
      },
      "outputs": [
        {
          "name": "stdout",
          "output_type": "stream",
          "text": [
            "p-value = 0.8082984677245291 \n",
            "chi stat =  0.05886529026508783 \n",
            "нет значимой разницы \n",
            "Теоретические значения- [[ 12018.79082853 199981.20917147]\n",
            " [ 12081.20917147 201019.79082853]]\n"
          ]
        }
      ],
      "source": [
        "stat = stats.chi2_contingency(pd.concat([a,c]))\n",
        "if stat[1] > 0.01/3:\n",
        "    print('p-value =',stat[1],'\\nchi stat = ',stat[0],'\\nнет значимой разницы','\\nТеоретические значения-',stat[3])\n",
        "else:\n",
        "    print('p-value =',stat[1],'\\nchi stat = ',stat[0],'\\nесть значимая разница','\\nТеоретические значения-',stat[3])"
      ]
    },
    {
      "cell_type": "markdown",
      "metadata": {
        "id": "M7ze4btAxCYT"
      },
      "source": [
        "Какие результаты получили?"
      ]
    },
    {
      "cell_type": "markdown",
      "metadata": {
        "id": "6ZQR0zuvxCYT"
      },
      "source": [
        "* есть значимая разница между красной и оранжевой кнопкой;\n",
        "* есть значимая разница между голубой и красной кнопкой;\n",
        "* нет значимой разницы между голубой и оранжевой кнопкой"
      ]
    },
    {
      "cell_type": "code",
      "execution_count": null,
      "metadata": {
        "id": "2uGj9cg3xCYU"
      },
      "outputs": [],
      "source": [
        "df['conv'] = round(df['success']/df['all'],4)"
      ]
    },
    {
      "cell_type": "code",
      "execution_count": null,
      "metadata": {
        "id": "XD8Y5CrnxCYU",
        "outputId": "d7506fa1-6c6c-4e2b-9249-b51d27f008f6"
      },
      "outputs": [
        {
          "data": {
            "text/html": [
              "<div>\n",
              "<style scoped>\n",
              "    .dataframe tbody tr th:only-of-type {\n",
              "        vertical-align: middle;\n",
              "    }\n",
              "\n",
              "    .dataframe tbody tr th {\n",
              "        vertical-align: top;\n",
              "    }\n",
              "\n",
              "    .dataframe thead th {\n",
              "        text-align: right;\n",
              "    }\n",
              "</style>\n",
              "<table border=\"1\" class=\"dataframe\">\n",
              "  <thead>\n",
              "    <tr style=\"text-align: right;\">\n",
              "      <th></th>\n",
              "      <th>group</th>\n",
              "      <th>success</th>\n",
              "      <th>all</th>\n",
              "      <th>conv</th>\n",
              "    </tr>\n",
              "  </thead>\n",
              "  <tbody>\n",
              "    <tr>\n",
              "      <th>0</th>\n",
              "      <td>a</td>\n",
              "      <td>12000</td>\n",
              "      <td>200000</td>\n",
              "      <td>0.0600</td>\n",
              "    </tr>\n",
              "    <tr>\n",
              "      <th>1</th>\n",
              "      <td>b</td>\n",
              "      <td>11000</td>\n",
              "      <td>199451</td>\n",
              "      <td>0.0552</td>\n",
              "    </tr>\n",
              "    <tr>\n",
              "      <th>2</th>\n",
              "      <td>c</td>\n",
              "      <td>12100</td>\n",
              "      <td>201001</td>\n",
              "      <td>0.0602</td>\n",
              "    </tr>\n",
              "  </tbody>\n",
              "</table>\n",
              "</div>"
            ],
            "text/plain": [
              "  group  success     all    conv\n",
              "0     a    12000  200000  0.0600\n",
              "1     b    11000  199451  0.0552\n",
              "2     c    12100  201001  0.0602"
            ]
          },
          "execution_count": 30,
          "metadata": {},
          "output_type": "execute_result"
        }
      ],
      "source": [
        "df"
      ]
    },
    {
      "cell_type": "markdown",
      "metadata": {
        "id": "XuF2Gx_0xCYU"
      },
      "source": [
        "Таким образом, красная кнопка показывает конверсию значимо НИЖЕ, чем голубая и оранжевая кнопки. Между оранжевой и голубой кнопкой разницы нет."
      ]
    },
    {
      "cell_type": "markdown",
      "metadata": {
        "id": "Pp_XTXurxCYU"
      },
      "source": [
        "#### Поправка Холма-Бонферрони"
      ]
    },
    {
      "cell_type": "markdown",
      "metadata": {
        "id": "vVKVhEBCxCYU"
      },
      "source": [
        "Метод Холма - Бонферрони - также называемый методом Холма,используется для борьбы с проблемой множественных сравнений. Является модификацией поправки Бонферрони и позволяет решать проблему излишней жесткости при большом количестве сравнений."
      ]
    },
    {
      "cell_type": "markdown",
      "metadata": {
        "id": "wCcpsUJ4xCYV"
      },
      "source": [
        "Формула для определения уровня значимости"
      ]
    },
    {
      "cell_type": "markdown",
      "metadata": {
        "id": "cTZj9s9bxCYV"
      },
      "source": [
        "![hb](https://www.statisticshowto.com/wp-content/uploads/2016/09/holm-bonferroni-2-1.png)"
      ]
    },
    {
      "cell_type": "markdown",
      "metadata": {
        "id": "QXEMdhevxCYV"
      },
      "source": [
        "* target alpa level - наш изначальный уровень значимости,заданный нами (0.05 например);\n",
        "* n - количество сравнений\n",
        "* rank number of pair - номер полученного p-value при сортировке от  меньшего к большему"
      ]
    },
    {
      "cell_type": "markdown",
      "metadata": {
        "id": "IphFTuHGxCYV"
      },
      "source": [
        "Работаем с тем же примером)"
      ]
    },
    {
      "cell_type": "markdown",
      "metadata": {
        "id": "vZI61DbHxCYV"
      },
      "source": [
        "Для начала нам надо получить p-value для каждого парного сравнения и отстортировать их от меньшего к большему"
      ]
    },
    {
      "cell_type": "code",
      "execution_count": null,
      "metadata": {
        "id": "Uo5Ea-6OxCYV"
      },
      "outputs": [],
      "source": [
        "pvals = [stats.chi2_contingency(pd.concat([a,b]))[1],stats.chi2_contingency(pd.concat([b,c]))[1],stats.chi2_contingency(pd.concat([a,c]))[1]]"
      ]
    },
    {
      "cell_type": "code",
      "execution_count": null,
      "metadata": {
        "id": "mXCNO4QVxCYV",
        "outputId": "e21acb86-c35c-4b32-d346-723f2e34b62d"
      },
      "outputs": [
        {
          "data": {
            "text/plain": [
              "[5.561780012021683e-10, 1.0561807671168348e-10, 0.8082984677245291]"
            ]
          },
          "execution_count": 32,
          "metadata": {},
          "output_type": "execute_result"
        }
      ],
      "source": [
        "pvals"
      ]
    },
    {
      "cell_type": "markdown",
      "metadata": {
        "id": "9QV_DJVuxCYW"
      },
      "source": [
        " Отсортируем"
      ]
    },
    {
      "cell_type": "code",
      "execution_count": null,
      "metadata": {
        "id": "Lsh_71snxCYX"
      },
      "outputs": [],
      "source": [
        "sort_values = sorted(pvals)"
      ]
    },
    {
      "cell_type": "code",
      "execution_count": null,
      "metadata": {
        "id": "WnpiUNz6xCYX",
        "outputId": "bc5cd817-21b3-4864-8d1e-896dc0d00bc0"
      },
      "outputs": [
        {
          "data": {
            "text/plain": [
              "[1.0561807671168348e-10, 5.561780012021683e-10, 0.8082984677245291]"
            ]
          },
          "execution_count": 34,
          "metadata": {},
          "output_type": "execute_result"
        }
      ],
      "source": [
        "sort_values"
      ]
    },
    {
      "cell_type": "code",
      "execution_count": null,
      "metadata": {
        "id": "XXiMACTAxCYX"
      },
      "outputs": [],
      "source": [
        "def Holm_Bonferroni(data):\n",
        "    for i in data:\n",
        "        if i < 0.05/(len(data) - (data.index(i) + 1) + 1):\n",
        "            print ('Не можем  принять гипотезу H0','\\ncorrected_alpha=',0.05/(len(data) - (data.index(i) + 1) + 1),\n",
        "                   '\\np_value = ',i)\n",
        "        else:\n",
        "            print('Не можем отклонить гипотезу H0','\\ncorrected_alpha=',0.05/(len(data) - (data.index(i) + 1) + 1),\n",
        "                 '\\np_value = ',i)"
      ]
    },
    {
      "cell_type": "code",
      "execution_count": null,
      "metadata": {
        "id": "AlaEqjA7xCYX",
        "outputId": "3617c35c-d73c-43e2-a2ac-3acfaff7e01e"
      },
      "outputs": [
        {
          "name": "stdout",
          "output_type": "stream",
          "text": [
            "Не можем  принять гипотезу H0 \n",
            "corrected_alpha= 0.016666666666666666 \n",
            "p_value =  1.0561807671168348e-10\n",
            "Не можем  принять гипотезу H0 \n",
            "corrected_alpha= 0.025 \n",
            "p_value =  5.561780012021683e-10\n",
            "Не можем отклонить гипотезу H0 \n",
            "corrected_alpha= 0.05 \n",
            "p_value =  0.8082984677245291\n"
          ]
        }
      ],
      "source": [
        "Holm_Bonferroni(sort_values)"
      ]
    },
    {
      "cell_type": "markdown",
      "metadata": {
        "id": "CK5dg6dwxCYX"
      },
      "source": [
        "Реализация statsmodels - https://www.statsmodels.org/dev/generated/statsmodels.stats.multitest.multipletests.html"
      ]
    },
    {
      "cell_type": "markdown",
      "metadata": {
        "id": "A0oO66IXxCYY"
      },
      "source": [
        "В целом, распространена практика вместо применения поправок брать очень маленький уровень значимости изначально. При большом объеме данных проверка гипотез при уровне значимости <= 0.001 вполне допустима."
      ]
    }
  ],
  "metadata": {
    "hide_input": false,
    "kernelspec": {
      "display_name": "Python 3",
      "language": "python",
      "name": "python3"
    },
    "language_info": {
      "codemirror_mode": {
        "name": "ipython",
        "version": 3
      },
      "file_extension": ".py",
      "mimetype": "text/x-python",
      "name": "python",
      "nbconvert_exporter": "python",
      "pygments_lexer": "ipython3",
      "version": "3.7.5"
    },
    "latex_envs": {
      "LaTeX_envs_menu_present": true,
      "autoclose": false,
      "autocomplete": true,
      "bibliofile": "biblio.bib",
      "cite_by": "apalike",
      "current_citInitial": 1,
      "eqLabelWithNumbers": true,
      "eqNumInitial": 1,
      "hotkeys": {
        "equation": "Ctrl-E",
        "itemize": "Ctrl-I"
      },
      "labels_anchors": false,
      "latex_user_defs": false,
      "report_style_numbering": false,
      "user_envs_cfg": false
    },
    "toc": {
      "base_numbering": 1,
      "nav_menu": {},
      "number_sections": true,
      "sideBar": true,
      "skip_h1_title": false,
      "title_cell": "Table of Contents",
      "title_sidebar": "Contents",
      "toc_cell": false,
      "toc_position": {
        "height": "calc(100% - 180px)",
        "left": "10px",
        "top": "150px",
        "width": "165px"
      },
      "toc_section_display": true,
      "toc_window_display": false
    },
    "colab": {
      "name": "Проверка гипотез_Часть 2..ipynb",
      "provenance": [],
      "include_colab_link": true
    }
  },
  "nbformat": 4,
  "nbformat_minor": 0
}